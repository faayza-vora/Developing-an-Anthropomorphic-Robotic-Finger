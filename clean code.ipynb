{
 "cells": [
  {
   "cell_type": "markdown",
   "metadata": {},
   "source": [
    "### IMPORTS"
   ]
  },
  {
   "cell_type": "code",
   "execution_count": 1,
   "metadata": {},
   "outputs": [],
   "source": [
    "import odrive\n",
    "from odrive.enums import *\n",
    "\n",
    "import time\n",
    "import numpy as np\n",
    "from scipy.sparse import diags\n",
    "from matplotlib import pyplot as plt"
   ]
  },
  {
   "cell_type": "markdown",
   "metadata": {},
   "source": [
    "### CALIBRATION PARAMETERS "
   ]
  },
  {
   "cell_type": "markdown",
   "metadata": {},
   "source": [
    "#### axis0 (cui encoder)"
   ]
  },
  {
   "cell_type": "code",
   "execution_count": null,
   "metadata": {},
   "outputs": [],
   "source": [
    "odrv0 = odrive.find_any()\n",
    "odrv0.clear_errors()\n",
    "# # shows the voltage supplied to odrive\n",
    "print(str(odrv0.vbus_voltage))\n",
    "# # Controller configuring prarameters\n",
    "## axis 0\n",
    "odrv0.axis0.motor.config.current_lim = 4\n",
    "odrv0.axis0.controller.config.vel_limit =20\n",
    "\n",
    "#brake resistance calibration\n",
    "odrv0.config.enable_brake_resistor = True\n",
    "odrv0.config.brake_resistance = 2\n",
    "\n",
    "\n",
    "# # Motor Configuration Parameters\n",
    "## Motor 0\n",
    "odrv0.axis0.motor.config.pole_pairs = 14\n",
    "odrv0.axis0.motor.config.torque_constant = 8.27/170\n",
    "odrv0.axis0.motor.config.motor_type = 0\n",
    "odrv0.axis0.motor.config.phase_resistance = 0.1995636522769928\n",
    "odrv0.axis0.motor.config.phase_inductance = 6.928964285179973e-05\n",
    "odrv0.axis0.motor.config.pre_calibrated= True\n",
    "\n",
    "# # Encoder Configuration Parameters\n",
    "## axis 0\n",
    "odrv0.axis0.encoder.config.cpr = 4096*4\n",
    "odrv0.axis0.encoder.config.phase_offset = -4364\n",
    "odrv0.axis0.encoder.config.phase_offset_float = -0.41486436128616333\n",
    "odrv0.axis0.encoder.config.pre_calibrated= True\n",
    "\n",
    "print('configuration saved successfully')\n"
   ]
  },
  {
   "cell_type": "markdown",
   "metadata": {},
   "source": [
    "#### axis1 (orange encoder)"
   ]
  },
  {
   "cell_type": "code",
   "execution_count": 3,
   "metadata": {},
   "outputs": [
    {
     "name": "stdout",
     "output_type": "stream",
     "text": [
      "24.002344131469727\n",
      "configuration saved successfully\n"
     ]
    }
   ],
   "source": [
    "odrv0 = odrive.find_any()\n",
    "odrv0.clear_errors()\n",
    "# # shows the voltage supplied to odrive\n",
    "print(str(odrv0.vbus_voltage))\n",
    "## axis 1\n",
    "odrv0.axis1.motor.config.current_lim = 4\n",
    "odrv0.axis1.controller.config.vel_limit =20\n",
    "#brake resistance calibration\n",
    "odrv0.config.enable_brake_resistor = True\n",
    "odrv0.config.brake_resistance = 2\n",
    "#Motor configuration\n",
    "## Motor 1\n",
    "odrv0.axis1.motor.config.pole_pairs = 14\n",
    "odrv0.axis1.motor.config.torque_constant = 8.27/170\n",
    "odrv0.axis1.motor.config.motor_type = 0\n",
    "odrv0.axis1.motor.config.phase_resistance = 0.17360255122184753\n",
    "odrv0.axis1.motor.config.phase_inductance = 6.480275624198839e-05\n",
    "odrv0.axis1.motor.config.pre_calibrated= True\n",
    "#Encoder configuration\n",
    "## axis 1\n",
    "odrv0.axis1.encoder.config.cpr = 600*4\n",
    "odrv0.axis1.encoder.config.phase_offset = -666\n",
    "odrv0.axis1.encoder.config.phase_offset_float = -0.09057384729385376\n",
    "odrv0.axis1.encoder.config.pre_calibrated= True\n",
    "\n",
    "print('configuration saved successfully')\n"
   ]
  },
  {
   "cell_type": "markdown",
   "metadata": {},
   "source": [
    "### CLEAR ERRORS"
   ]
  },
  {
   "cell_type": "code",
   "execution_count": null,
   "metadata": {},
   "outputs": [
    {
     "name": "stdout",
     "output_type": "stream",
     "text": [
      "Axis error: 0\n",
      "Motor error: 0\n",
      "Encoder error: 0\n",
      "Controller error: 0\n"
     ]
    }
   ],
   "source": [
    "odrv0 = odrive.find_any()\n",
    "odrv0.clear_errors()\n",
    "print(\"Axis error:\", odrv0.axis0.error)\n",
    "print(\"Motor error:\", odrv0.axis0.motor.error)\n",
    "print(\"Encoder error:\", odrv0.axis0.encoder.error)\n",
    "print(\"Controller error:\", odrv0.axis0.controller.error)"
   ]
  },
  {
   "cell_type": "code",
   "execution_count": 65,
   "metadata": {},
   "outputs": [],
   "source": [
    "def set_to_idle():\n",
    "    odrv0 = odrive.find_any()\n",
    "    odrv0.axis0.requested_state = odrive.enums.AXIS_STATE_IDLE\n",
    "\n",
    "set_to_idle()"
   ]
  },
  {
   "cell_type": "markdown",
   "metadata": {},
   "source": [
    "### Full calibration sequence"
   ]
  },
  {
   "cell_type": "markdown",
   "metadata": {},
   "source": [
    "#### axis0(cui encoder)"
   ]
  },
  {
   "cell_type": "code",
   "execution_count": null,
   "metadata": {},
   "outputs": [
    {
     "ename": "NameError",
     "evalue": "name 'odrive' is not defined",
     "output_type": "error",
     "traceback": [
      "\u001b[1;31m---------------------------------------------------------------------------\u001b[0m",
      "\u001b[1;31mNameError\u001b[0m                                 Traceback (most recent call last)",
      "Cell \u001b[1;32mIn[1], line 1\u001b[0m\n\u001b[1;32m----> 1\u001b[0m odrv0 \u001b[38;5;241m=\u001b[39m \u001b[43modrive\u001b[49m\u001b[38;5;241m.\u001b[39mfind_any()\n\u001b[0;32m      2\u001b[0m odrv0\u001b[38;5;241m.\u001b[39maxis0\u001b[38;5;241m.\u001b[39mmotor\u001b[38;5;241m.\u001b[39mconfig\u001b[38;5;241m.\u001b[39mresistance_calib_max_voltage \u001b[38;5;241m=\u001b[39m \u001b[38;5;241m4\u001b[39m\n\u001b[0;32m      3\u001b[0m \u001b[38;5;66;03m# Calibration\u001b[39;00m\n",
      "\u001b[1;31mNameError\u001b[0m: name 'odrive' is not defined"
     ]
    }
   ],
   "source": [
    "odrv0 = odrive.find_any()\n",
    "odrv0.axis0.motor.config.resistance_calib_max_voltage = 4\n",
    "# Calibration\n",
    "odrv0.axis0.encoder.config.calib_scan_distance = 14*3.14*2/9\n",
    "odrv0.axis0.requested_state = odrive.enums.AXIS_STATE_FULL_CALIBRATION_SEQUENCE\n",
    "\n",
    "# Wait for calibration to complete\n",
    "while odrv0.axis0.current_state != odrive.enums.AXIS_STATE_IDLE:\n",
    "    pass\n",
    "\n",
    "print(\"Axis error:\", odrv0.axis0.error)\n",
    "print(\"Motor error:\", odrv0.axis0.motor.error)\n",
    "print(\"Encoder error:\", odrv0.axis0.encoder.error)\n",
    "print(\"Controller error:\", odrv0.axis0.controller.error)\n",
    "\n",
    "# odrv0.save_configuration()\n",
    "odrv0.axis0.requested_state = odrive.enums.AXIS_STATE_CLOSED_LOOP_CONTROL\n",
    "odrv0.axis0.controller.config.control_mode = odrive.enums.CONTROL_MODE_POSITION_CONTROL\n",
    "\n",
    "# Move n degree in anticlockwise directions\n",
    "current_pos = odrv0.axis0.encoder.pos_estimate\n",
    "n = 30 #Input the desired value of angle\n",
    "target_pos = current_pos - n/360\n",
    "\n",
    "steps = 100 # Number of steps for gradual movement\n",
    "delay = n*0.05/360 # Delay between each step (adjust for smoothness and speed)\n",
    "\n",
    "# Increment position in small steps\n",
    "for step in range(steps):\n",
    "    odrv0.axis0.controller.input_pos = current_pos + (target_pos - current_pos) * (step + 1) / steps\n",
    "    time.sleep(delay)\n",
    "    \n",
    "odrv0.axis0.requested_state = odrive.enums.AXIS_STATE_IDLE\n",
    "#Errors\n",
    "print(\"Axis error:\", odrv0.axis0.error)\n",
    "print(\"Motor error:\", odrv0.axis0.motor.error)\n",
    "print(\"Encoder error:\", odrv0.axis0.encoder.error)\n",
    "print(\"Controller error:\", odrv0.axis0.controller.error)"
   ]
  },
  {
   "cell_type": "markdown",
   "metadata": {},
   "source": [
    "#### axis1(orange encoder)"
   ]
  },
  {
   "cell_type": "code",
   "execution_count": 5,
   "metadata": {},
   "outputs": [],
   "source": []
  },
  {
   "cell_type": "markdown",
   "metadata": {},
   "source": [
    "### Motion (A sort of a motion depecting no)"
   ]
  },
  {
   "cell_type": "markdown",
   "metadata": {},
   "source": [
    "#### axis0(CUI encoder)"
   ]
  },
  {
   "cell_type": "code",
   "execution_count": 2,
   "metadata": {},
   "outputs": [],
   "source": [
    "def rotate(angle,clockwise):\n",
    "    odrv0.axis0.requested_state = odrive.enums.AXIS_STATE_CLOSED_LOOP_CONTROL\n",
    "    odrv0.axis0.controller.config.control_mode = odrive.enums.CONTROL_MODE_POSITION_CONTROL\n",
    "\n",
    "    # Move n degree in anticlockwise directions\n",
    "    current_pos = odrv0.axis0.encoder.pos_estimate\n",
    "    n = angle #Input the desired value of angle\n",
    "    if clockwise==True:\n",
    "        target_pos = current_pos - n/360\n",
    "    else:\n",
    "        target_pos = current_pos + n/360\n",
    "        \n",
    "\n",
    "    steps = 100 # Number of steps for gradual movement\n",
    "    delay = n*0.05/360 # Delay between each step (adjust for smoothness and speed)\n",
    "\n",
    "    # Increment position in small steps\n",
    "    for step in range(steps):\n",
    "        odrv0.axis0.controller.input_pos = current_pos + (target_pos - current_pos) * (step + 1) / steps\n",
    "        time.sleep(delay)\n",
    "        \n",
    "    odrv0.axis0.requested_state = odrive.enums.AXIS_STATE_IDLE\n",
    "    #Errors\n",
    "    print(\"Axis error:\", odrv0.axis0.error)\n",
    "    print(\"Motor error:\", odrv0.axis0.motor.error)\n",
    "    print(\"Encoder error:\", odrv0.axis0.encoder.error)\n",
    "    print(\"Controller error:\", odrv0.axis0.controller.error)\n"
   ]
  },
  {
   "cell_type": "code",
   "execution_count": null,
   "metadata": {},
   "outputs": [],
   "source": [
    "\n",
    "odrv0 = odrive.find_any()\n",
    "eps = 3.5\n",
    "n=30\n",
    "for _ in range(2): \n",
    "    rotate(n,False)\n",
    "    rotate(2*n,True)\n",
    "    rotate(n+eps,False)"
   ]
  },
  {
   "cell_type": "code",
   "execution_count": 48,
   "metadata": {},
   "outputs": [
    {
     "name": "stdout",
     "output_type": "stream",
     "text": [
      "Axis error: 0\n",
      "Motor error: 0\n",
      "Encoder error: 0\n",
      "Controller error: 0\n",
      "Axis error: 0\n",
      "Motor error: 0\n",
      "Encoder error: 0\n",
      "Controller error: 0\n",
      "Axis error: 0\n",
      "Motor error: 0\n",
      "Encoder error: 0\n",
      "Controller error: 0\n",
      "Axis error: 0\n",
      "Motor error: 0\n",
      "Encoder error: 0\n",
      "Controller error: 0\n",
      "Axis error: 0\n",
      "Motor error: 0\n",
      "Encoder error: 0\n",
      "Controller error: 0\n",
      "Axis error: 0\n",
      "Motor error: 0\n",
      "Encoder error: 0\n",
      "Controller error: 0\n",
      "Axis error: 0\n",
      "Motor error: 0\n",
      "Encoder error: 0\n",
      "Controller error: 0\n",
      "Axis error: 0\n",
      "Motor error: 0\n",
      "Encoder error: 0\n",
      "Controller error: 0\n",
      "Axis error: 0\n",
      "Motor error: 0\n",
      "Encoder error: 0\n",
      "Controller error: 0\n",
      "Axis error: 0\n",
      "Motor error: 0\n",
      "Encoder error: 0\n",
      "Controller error: 0\n",
      "Axis error: 0\n",
      "Motor error: 0\n",
      "Encoder error: 0\n",
      "Controller error: 0\n",
      "Axis error: 0\n",
      "Motor error: 0\n",
      "Encoder error: 0\n",
      "Controller error: 0\n",
      "Axis error: 0\n",
      "Motor error: 0\n",
      "Encoder error: 0\n",
      "Controller error: 0\n",
      "Axis error: 0\n",
      "Motor error: 0\n",
      "Encoder error: 0\n",
      "Controller error: 0\n",
      "Axis error: 0\n",
      "Motor error: 0\n",
      "Encoder error: 0\n",
      "Controller error: 0\n",
      "Axis error: 0\n",
      "Motor error: 0\n",
      "Encoder error: 0\n",
      "Controller error: 0\n",
      "Axis error: 0\n",
      "Motor error: 0\n",
      "Encoder error: 0\n",
      "Controller error: 0\n",
      "Axis error: 0\n",
      "Motor error: 0\n",
      "Encoder error: 0\n",
      "Controller error: 0\n",
      "Axis error: 0\n",
      "Motor error: 0\n",
      "Encoder error: 0\n",
      "Controller error: 0\n",
      "Axis error: 0\n",
      "Motor error: 0\n",
      "Encoder error: 0\n",
      "Controller error: 0\n",
      "Axis error: 0\n",
      "Motor error: 0\n",
      "Encoder error: 0\n",
      "Controller error: 0\n",
      "Axis error: 0\n",
      "Motor error: 0\n",
      "Encoder error: 0\n",
      "Controller error: 0\n",
      "Axis error: 0\n",
      "Motor error: 0\n",
      "Encoder error: 0\n",
      "Controller error: 0\n",
      "Axis error: 0\n",
      "Motor error: 0\n",
      "Encoder error: 0\n",
      "Controller error: 0\n",
      "Axis error: 0\n",
      "Motor error: 0\n",
      "Encoder error: 0\n",
      "Controller error: 0\n",
      "Axis error: 0\n",
      "Motor error: 0\n",
      "Encoder error: 0\n",
      "Controller error: 0\n",
      "Axis error: 0\n",
      "Motor error: 0\n",
      "Encoder error: 0\n",
      "Controller error: 0\n"
     ]
    }
   ],
   "source": [
    "n = min(max(0,float(input(\"Enter an angle by which to say no: \"))),30)\n",
    "odrv0 = odrive.find_any()\n",
    "eps = 3.5\n",
    "i = min(max(0,int(input(\"Enter an the number of times it is supposed to say no: \"))),10)\n",
    "for _ in range(i): \n",
    "    rotate(n,False)\n",
    "    rotate(2*n,True)\n",
    "    rotate(n+eps,False)"
   ]
  },
  {
   "cell_type": "markdown",
   "metadata": {},
   "source": [
    "#### axis1 (orange encoder)"
   ]
  },
  {
   "cell_type": "code",
   "execution_count": null,
   "metadata": {},
   "outputs": [],
   "source": []
  },
  {
   "cell_type": "markdown",
   "metadata": {},
   "source": [
    "###jsm code"
   ]
  }
 ],
 "metadata": {
  "kernelspec": {
   "display_name": "Python 3",
   "language": "python",
   "name": "python3"
  },
  "language_info": {
   "codemirror_mode": {
    "name": "ipython",
    "version": 3
   },
   "file_extension": ".py",
   "mimetype": "text/x-python",
   "name": "python",
   "nbconvert_exporter": "python",
   "pygments_lexer": "ipython3",
   "version": "3.12.3"
  }
 },
 "nbformat": 4,
 "nbformat_minor": 2
}
